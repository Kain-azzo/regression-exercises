{
 "cells": [
  {
   "cell_type": "code",
   "execution_count": 1,
   "id": "48b5e941",
   "metadata": {},
   "outputs": [],
   "source": [
    "import numpy as np\n",
    "import pandas as pd\n",
    "import env\n",
    "\n",
    "import seaborn as sns\n",
    "import matplotlib.pyplot as plt\n",
    "import warnings\n",
    "from sklearn.model_selection import train_test_split\n",
    "from scipy.stats import spearmanr\n",
    "from wrangle import get_zillow,prep_zillow,split_data,X_y_split\n",
    "from explore import plot_categorical_and_continuous,plot_variable_pairs,sub_plot_categorical_and_continuous\n",
    "warnings.filterwarnings('ignore')\n",
    "import warnings\n",
    "from sklearn.preprocessing import MinMaxScaler, StandardScaler, RobustScaler, QuantileTransformer\n",
    "from pydataset import data\n",
    "from sklearn.feature_selection import SelectKBest, RFE, f_regression, SequentialFeatureSelector \n",
    "from sklearn.linear_model import LinearRegression\n"
   ]
  },
  {
   "cell_type": "code",
   "execution_count": 2,
   "id": "ec9e4008",
   "metadata": {},
   "outputs": [],
   "source": [
    "tips =sns.load_dataset(\"tips\")"
   ]
  },
  {
   "cell_type": "code",
   "execution_count": 3,
   "id": "5035ad41",
   "metadata": {},
   "outputs": [],
   "source": [
    "tips[\"price_per_person\"]=round((tips.total_bill/tips[\"size\"]),2)"
   ]
  },
  {
   "cell_type": "code",
   "execution_count": 4,
   "id": "30e0ae25",
   "metadata": {},
   "outputs": [
    {
     "data": {
      "text/html": [
       "<div>\n",
       "<style scoped>\n",
       "    .dataframe tbody tr th:only-of-type {\n",
       "        vertical-align: middle;\n",
       "    }\n",
       "\n",
       "    .dataframe tbody tr th {\n",
       "        vertical-align: top;\n",
       "    }\n",
       "\n",
       "    .dataframe thead th {\n",
       "        text-align: right;\n",
       "    }\n",
       "</style>\n",
       "<table border=\"1\" class=\"dataframe\">\n",
       "  <thead>\n",
       "    <tr style=\"text-align: right;\">\n",
       "      <th></th>\n",
       "      <th>total_bill</th>\n",
       "      <th>tip</th>\n",
       "      <th>sex</th>\n",
       "      <th>smoker</th>\n",
       "      <th>day</th>\n",
       "      <th>time</th>\n",
       "      <th>size</th>\n",
       "      <th>price_per_person</th>\n",
       "    </tr>\n",
       "  </thead>\n",
       "  <tbody>\n",
       "    <tr>\n",
       "      <th>0</th>\n",
       "      <td>16.99</td>\n",
       "      <td>1.01</td>\n",
       "      <td>Female</td>\n",
       "      <td>No</td>\n",
       "      <td>Sun</td>\n",
       "      <td>Dinner</td>\n",
       "      <td>2</td>\n",
       "      <td>8.49</td>\n",
       "    </tr>\n",
       "    <tr>\n",
       "      <th>1</th>\n",
       "      <td>10.34</td>\n",
       "      <td>1.66</td>\n",
       "      <td>Male</td>\n",
       "      <td>No</td>\n",
       "      <td>Sun</td>\n",
       "      <td>Dinner</td>\n",
       "      <td>3</td>\n",
       "      <td>3.45</td>\n",
       "    </tr>\n",
       "    <tr>\n",
       "      <th>2</th>\n",
       "      <td>21.01</td>\n",
       "      <td>3.50</td>\n",
       "      <td>Male</td>\n",
       "      <td>No</td>\n",
       "      <td>Sun</td>\n",
       "      <td>Dinner</td>\n",
       "      <td>3</td>\n",
       "      <td>7.00</td>\n",
       "    </tr>\n",
       "    <tr>\n",
       "      <th>3</th>\n",
       "      <td>23.68</td>\n",
       "      <td>3.31</td>\n",
       "      <td>Male</td>\n",
       "      <td>No</td>\n",
       "      <td>Sun</td>\n",
       "      <td>Dinner</td>\n",
       "      <td>2</td>\n",
       "      <td>11.84</td>\n",
       "    </tr>\n",
       "    <tr>\n",
       "      <th>4</th>\n",
       "      <td>24.59</td>\n",
       "      <td>3.61</td>\n",
       "      <td>Female</td>\n",
       "      <td>No</td>\n",
       "      <td>Sun</td>\n",
       "      <td>Dinner</td>\n",
       "      <td>4</td>\n",
       "      <td>6.15</td>\n",
       "    </tr>\n",
       "  </tbody>\n",
       "</table>\n",
       "</div>"
      ],
      "text/plain": [
       "   total_bill   tip     sex smoker  day    time  size  price_per_person\n",
       "0       16.99  1.01  Female     No  Sun  Dinner     2              8.49\n",
       "1       10.34  1.66    Male     No  Sun  Dinner     3              3.45\n",
       "2       21.01  3.50    Male     No  Sun  Dinner     3              7.00\n",
       "3       23.68  3.31    Male     No  Sun  Dinner     2             11.84\n",
       "4       24.59  3.61  Female     No  Sun  Dinner     4              6.15"
      ]
     },
     "execution_count": 4,
     "metadata": {},
     "output_type": "execute_result"
    }
   ],
   "source": [
    "tips.head()"
   ]
  },
  {
   "cell_type": "code",
   "execution_count": null,
   "id": "39b5d960",
   "metadata": {},
   "outputs": [],
   "source": [
    "#tips.corr()"
   ]
  },
  {
   "cell_type": "code",
   "execution_count": 5,
   "id": "e7a0bcb7",
   "metadata": {},
   "outputs": [],
   "source": [
    "new_tips = pd.get_dummies(tips, columns=['time', 'sex', 'day', 'smoker', 'size'])\n",
    "\n",
    "# Convert specific columns to integer, excluding 'total_bill'\n",
    "columns_to_convert = ['time_Lunch', 'time_Dinner', 'sex_Female', 'sex_Male', 'day_Thur', 'day_Fri', 'day_Sat', 'day_Sun', 'smoker_Yes', 'smoker_No', 'size_1','size_2','size_3','size_4','size_5','size_6']\n",
    "new_tips[columns_to_convert] = new_tips[columns_to_convert].astype(int) #Do this for project\n"
   ]
  },
  {
   "cell_type": "code",
   "execution_count": 6,
   "id": "b54f3a6d",
   "metadata": {
    "scrolled": false
   },
   "outputs": [
    {
     "data": {
      "text/html": [
       "<div>\n",
       "<style scoped>\n",
       "    .dataframe tbody tr th:only-of-type {\n",
       "        vertical-align: middle;\n",
       "    }\n",
       "\n",
       "    .dataframe tbody tr th {\n",
       "        vertical-align: top;\n",
       "    }\n",
       "\n",
       "    .dataframe thead th {\n",
       "        text-align: right;\n",
       "    }\n",
       "</style>\n",
       "<table border=\"1\" class=\"dataframe\">\n",
       "  <thead>\n",
       "    <tr style=\"text-align: right;\">\n",
       "      <th></th>\n",
       "      <th>total_bill</th>\n",
       "      <th>tip</th>\n",
       "      <th>price_per_person</th>\n",
       "      <th>time_Lunch</th>\n",
       "      <th>time_Dinner</th>\n",
       "      <th>sex_Male</th>\n",
       "      <th>sex_Female</th>\n",
       "      <th>day_Thur</th>\n",
       "      <th>day_Fri</th>\n",
       "      <th>day_Sat</th>\n",
       "      <th>day_Sun</th>\n",
       "      <th>smoker_Yes</th>\n",
       "      <th>smoker_No</th>\n",
       "      <th>size_1</th>\n",
       "      <th>size_2</th>\n",
       "      <th>size_3</th>\n",
       "      <th>size_4</th>\n",
       "      <th>size_5</th>\n",
       "      <th>size_6</th>\n",
       "    </tr>\n",
       "  </thead>\n",
       "  <tbody>\n",
       "    <tr>\n",
       "      <th>0</th>\n",
       "      <td>16.99</td>\n",
       "      <td>1.01</td>\n",
       "      <td>8.49</td>\n",
       "      <td>0</td>\n",
       "      <td>1</td>\n",
       "      <td>0</td>\n",
       "      <td>1</td>\n",
       "      <td>0</td>\n",
       "      <td>0</td>\n",
       "      <td>0</td>\n",
       "      <td>1</td>\n",
       "      <td>0</td>\n",
       "      <td>1</td>\n",
       "      <td>0</td>\n",
       "      <td>1</td>\n",
       "      <td>0</td>\n",
       "      <td>0</td>\n",
       "      <td>0</td>\n",
       "      <td>0</td>\n",
       "    </tr>\n",
       "    <tr>\n",
       "      <th>1</th>\n",
       "      <td>10.34</td>\n",
       "      <td>1.66</td>\n",
       "      <td>3.45</td>\n",
       "      <td>0</td>\n",
       "      <td>1</td>\n",
       "      <td>1</td>\n",
       "      <td>0</td>\n",
       "      <td>0</td>\n",
       "      <td>0</td>\n",
       "      <td>0</td>\n",
       "      <td>1</td>\n",
       "      <td>0</td>\n",
       "      <td>1</td>\n",
       "      <td>0</td>\n",
       "      <td>0</td>\n",
       "      <td>1</td>\n",
       "      <td>0</td>\n",
       "      <td>0</td>\n",
       "      <td>0</td>\n",
       "    </tr>\n",
       "    <tr>\n",
       "      <th>2</th>\n",
       "      <td>21.01</td>\n",
       "      <td>3.50</td>\n",
       "      <td>7.00</td>\n",
       "      <td>0</td>\n",
       "      <td>1</td>\n",
       "      <td>1</td>\n",
       "      <td>0</td>\n",
       "      <td>0</td>\n",
       "      <td>0</td>\n",
       "      <td>0</td>\n",
       "      <td>1</td>\n",
       "      <td>0</td>\n",
       "      <td>1</td>\n",
       "      <td>0</td>\n",
       "      <td>0</td>\n",
       "      <td>1</td>\n",
       "      <td>0</td>\n",
       "      <td>0</td>\n",
       "      <td>0</td>\n",
       "    </tr>\n",
       "    <tr>\n",
       "      <th>3</th>\n",
       "      <td>23.68</td>\n",
       "      <td>3.31</td>\n",
       "      <td>11.84</td>\n",
       "      <td>0</td>\n",
       "      <td>1</td>\n",
       "      <td>1</td>\n",
       "      <td>0</td>\n",
       "      <td>0</td>\n",
       "      <td>0</td>\n",
       "      <td>0</td>\n",
       "      <td>1</td>\n",
       "      <td>0</td>\n",
       "      <td>1</td>\n",
       "      <td>0</td>\n",
       "      <td>1</td>\n",
       "      <td>0</td>\n",
       "      <td>0</td>\n",
       "      <td>0</td>\n",
       "      <td>0</td>\n",
       "    </tr>\n",
       "    <tr>\n",
       "      <th>4</th>\n",
       "      <td>24.59</td>\n",
       "      <td>3.61</td>\n",
       "      <td>6.15</td>\n",
       "      <td>0</td>\n",
       "      <td>1</td>\n",
       "      <td>0</td>\n",
       "      <td>1</td>\n",
       "      <td>0</td>\n",
       "      <td>0</td>\n",
       "      <td>0</td>\n",
       "      <td>1</td>\n",
       "      <td>0</td>\n",
       "      <td>1</td>\n",
       "      <td>0</td>\n",
       "      <td>0</td>\n",
       "      <td>0</td>\n",
       "      <td>1</td>\n",
       "      <td>0</td>\n",
       "      <td>0</td>\n",
       "    </tr>\n",
       "  </tbody>\n",
       "</table>\n",
       "</div>"
      ],
      "text/plain": [
       "   total_bill   tip  price_per_person  time_Lunch  time_Dinner  sex_Male  \\\n",
       "0       16.99  1.01              8.49           0            1         0   \n",
       "1       10.34  1.66              3.45           0            1         1   \n",
       "2       21.01  3.50              7.00           0            1         1   \n",
       "3       23.68  3.31             11.84           0            1         1   \n",
       "4       24.59  3.61              6.15           0            1         0   \n",
       "\n",
       "   sex_Female  day_Thur  day_Fri  day_Sat  day_Sun  smoker_Yes  smoker_No  \\\n",
       "0           1         0        0        0        1           0          1   \n",
       "1           0         0        0        0        1           0          1   \n",
       "2           0         0        0        0        1           0          1   \n",
       "3           0         0        0        0        1           0          1   \n",
       "4           1         0        0        0        1           0          1   \n",
       "\n",
       "   size_1  size_2  size_3  size_4  size_5  size_6  \n",
       "0       0       1       0       0       0       0  \n",
       "1       0       0       1       0       0       0  \n",
       "2       0       0       1       0       0       0  \n",
       "3       0       1       0       0       0       0  \n",
       "4       0       0       0       1       0       0  "
      ]
     },
     "execution_count": 6,
     "metadata": {},
     "output_type": "execute_result"
    }
   ],
   "source": [
    "new_tips.head()"
   ]
  },
  {
   "cell_type": "code",
   "execution_count": null,
   "id": "6677cde9",
   "metadata": {},
   "outputs": [],
   "source": [
    "tips.info()"
   ]
  },
  {
   "cell_type": "code",
   "execution_count": null,
   "id": "19397785",
   "metadata": {},
   "outputs": [],
   "source": [
    "mms_dummy = MinMaxScaler()"
   ]
  },
  {
   "cell_type": "code",
   "execution_count": null,
   "id": "f3f3bd33",
   "metadata": {},
   "outputs": [],
   "source": [
    "mms_dummy.fit(tips[['total_bill', 'price_per_person']])"
   ]
  },
  {
   "cell_type": "code",
   "execution_count": null,
   "id": "380bf151",
   "metadata": {},
   "outputs": [],
   "source": []
  },
  {
   "cell_type": "code",
   "execution_count": null,
   "id": "58f2f453",
   "metadata": {},
   "outputs": [],
   "source": [
    "tips[['total_bill', 'price_per_person']] = mms_dummy.transform(tips[['total_bill', 'price_per_person']])"
   ]
  },
  {
   "cell_type": "code",
   "execution_count": null,
   "id": "492990de",
   "metadata": {},
   "outputs": [],
   "source": [
    "tips.head()"
   ]
  },
  {
   "cell_type": "code",
   "execution_count": null,
   "id": "038be9e3",
   "metadata": {},
   "outputs": [],
   "source": [
    "train,validate,test = split_data(tips)"
   ]
  },
  {
   "cell_type": "code",
   "execution_count": null,
   "id": "3fc18922",
   "metadata": {
    "scrolled": true
   },
   "outputs": [],
   "source": [
    "train"
   ]
  },
  {
   "cell_type": "code",
   "execution_count": null,
   "id": "7bff5f1e",
   "metadata": {},
   "outputs": [],
   "source": [
    "X_train.head()"
   ]
  },
  {
   "cell_type": "code",
   "execution_count": null,
   "id": "782245b7",
   "metadata": {},
   "outputs": [],
   "source": [
    "# tips.corr()"
   ]
  },
  {
   "cell_type": "code",
   "execution_count": null,
   "id": "20e51e12",
   "metadata": {},
   "outputs": [],
   "source": [
    "# sns.pairplot(data=tips, corner=True, kind=\"reg\", plot_kws={'line_kws':{'color':'red'}})\n",
    "# plt.show()"
   ]
  },
  {
   "cell_type": "code",
   "execution_count": null,
   "id": "2e892d0a",
   "metadata": {},
   "outputs": [],
   "source": [
    "# sns.heatmap(tips.corr(), cmap='PRGn', annot=True,\n",
    "#            mask=np.triu(tips.corr()))\n",
    "# plt.show()"
   ]
  },
  {
   "cell_type": "code",
   "execution_count": null,
   "id": "1e102343",
   "metadata": {},
   "outputs": [],
   "source": [
    "scaler = MinMaxScaler()"
   ]
  },
  {
   "cell_type": "code",
   "execution_count": null,
   "id": "396f4a08",
   "metadata": {},
   "outputs": [],
   "source": [
    "scaler.fit(X_train)"
   ]
  },
  {
   "cell_type": "code",
   "execution_count": null,
   "id": "791c513e",
   "metadata": {},
   "outputs": [],
   "source": [
    "#use it\n",
    "#make a new column within train\n",
    "#use 'transform' instead of 'predict'\n",
    "X_train_scaled = scaler.transform(X_train)\n",
    "X_validate_scaled = scaler.transform(X_validate)\n",
    "X_test_scaled = scaler.transform(X_test)"
   ]
  },
  {
   "cell_type": "code",
   "execution_count": null,
   "id": "92f7ba92",
   "metadata": {},
   "outputs": [],
   "source": [
    "X_train"
   ]
  },
  {
   "cell_type": "code",
   "execution_count": null,
   "id": "590fc7ce",
   "metadata": {},
   "outputs": [],
   "source": []
  },
  {
   "cell_type": "code",
   "execution_count": null,
   "id": "a7a1641c",
   "metadata": {},
   "outputs": [],
   "source": [
    "best_tip = SelectKBest(f_regression, k=2)"
   ]
  },
  {
   "cell_type": "code",
   "execution_count": null,
   "id": "a0c2a89a",
   "metadata": {},
   "outputs": [],
   "source": []
  },
  {
   "cell_type": "code",
   "execution_count": null,
   "id": "3579a29d",
   "metadata": {},
   "outputs": [],
   "source": [
    "# # Define a mapping dictionary\n",
    "# time_mapping = {'Lunch': 0, 'Dinner': 1}\n",
    "# sex_mapping = {'Male': 0, 'Female': 1}\n",
    "# day_mapping = {'Thur': 0, 'Fri': 1, 'Sat': 2, 'Sun':3}\n",
    "# smoker_mapping = {'No': 0, 'Yes': 1}\n",
    "# # Replace 'time' column with mapped integers\n",
    "# tips['time'] = tips['time'].map(time_mapping)\n",
    "# tips['sex'] = tips['sex'].map(sex_mapping)\n",
    "# tips['day'] = tips['day'].map(day_mapping)\n",
    "# tips['smoker'] = tips['smoker'].map(smoker_mapping)"
   ]
  },
  {
   "cell_type": "code",
   "execution_count": null,
   "id": "5af14dda",
   "metadata": {},
   "outputs": [],
   "source": [
    "#X_train = tips.drop(columns=\"tip\")"
   ]
  },
  {
   "cell_type": "code",
   "execution_count": null,
   "id": "42898aaa",
   "metadata": {},
   "outputs": [],
   "source": [
    "#y_train = tips.tip"
   ]
  },
  {
   "cell_type": "code",
   "execution_count": null,
   "id": "22be09aa",
   "metadata": {},
   "outputs": [],
   "source": [
    "best_tip.fit(X_train,y_train)"
   ]
  },
  {
   "cell_type": "code",
   "execution_count": null,
   "id": "a19ffd6a",
   "metadata": {},
   "outputs": [],
   "source": [
    "best_tip.scores_"
   ]
  },
  {
   "cell_type": "code",
   "execution_count": null,
   "id": "151ae770",
   "metadata": {},
   "outputs": [],
   "source": []
  },
  {
   "cell_type": "code",
   "execution_count": null,
   "id": "289fb2b3",
   "metadata": {},
   "outputs": [],
   "source": [
    "best_tip.get_feature_names_out()"
   ]
  },
  {
   "cell_type": "code",
   "execution_count": null,
   "id": "9d46a49e",
   "metadata": {},
   "outputs": [],
   "source": [
    "ruffy = RFE(LinearRegression(), n_features_to_select=2)"
   ]
  },
  {
   "cell_type": "code",
   "execution_count": null,
   "id": "fef690a7",
   "metadata": {},
   "outputs": [],
   "source": [
    "ruffy.fit(X_train,y_train)"
   ]
  },
  {
   "cell_type": "code",
   "execution_count": null,
   "id": "289e832d",
   "metadata": {},
   "outputs": [],
   "source": [
    "ruffy.ranking_"
   ]
  },
  {
   "cell_type": "code",
   "execution_count": null,
   "id": "bbf6f0c3",
   "metadata": {},
   "outputs": [],
   "source": [
    "new =pd.DataFrame(\n",
    "{\n",
    "    'feature': X_train.columns.to_list(),\n",
    "    'rfe_ranking': ruffy.ranking_\n",
    "    \n",
    "})"
   ]
  },
  {
   "cell_type": "code",
   "execution_count": null,
   "id": "799f5b54",
   "metadata": {},
   "outputs": [],
   "source": [
    "new"
   ]
  },
  {
   "cell_type": "code",
   "execution_count": null,
   "id": "aed03a54",
   "metadata": {},
   "outputs": [],
   "source": [
    "ruffyB = RFE(LinearRegression(), n_features_to_select=3)"
   ]
  },
  {
   "cell_type": "code",
   "execution_count": null,
   "id": "4c87ee15",
   "metadata": {},
   "outputs": [],
   "source": [
    "ruffyB.fit(X_train,y_train)"
   ]
  },
  {
   "cell_type": "code",
   "execution_count": null,
   "id": "93112c29",
   "metadata": {},
   "outputs": [],
   "source": [
    "ruffyB.ranking_"
   ]
  },
  {
   "cell_type": "code",
   "execution_count": null,
   "id": "4deeda39",
   "metadata": {},
   "outputs": [],
   "source": [
    "newB =pd.DataFrame(\n",
    "{\n",
    "    'feature': X_train.columns.to_list(),\n",
    "    'rfe_ranking': ruffyB.ranking_\n",
    "    \n",
    "})"
   ]
  },
  {
   "cell_type": "code",
   "execution_count": null,
   "id": "c762371d",
   "metadata": {},
   "outputs": [],
   "source": [
    "newB"
   ]
  },
  {
   "cell_type": "code",
   "execution_count": null,
   "id": "7bbe289d",
   "metadata": {},
   "outputs": [],
   "source": [
    "def select_kbest(X, y, k):\n",
    "    best_tip = SelectKBest(f_regression, k=k)\n",
    "    best_tip.fit(X, y)\n",
    "    selected_feature_names = X.columns[best_tip.get_support(indices=True)].tolist()\n",
    "\n",
    "    return f\"The best {k} features are: {selected_feature_names}\"\n",
    "\n"
   ]
  },
  {
   "cell_type": "code",
   "execution_count": null,
   "id": "2af67af3",
   "metadata": {},
   "outputs": [],
   "source": [
    "select_kbest(X_train,y_train,2)"
   ]
  },
  {
   "cell_type": "code",
   "execution_count": null,
   "id": "4de60651",
   "metadata": {},
   "outputs": [],
   "source": [
    "\n",
    "\n",
    "def besty_rfe(X, y, k):\n",
    "    besty_rfe = RFE(LinearRegression(), n_features_to_select=k)\n",
    "    besty_rfe.fit(X, y)\n",
    "    selected_feature_names = X.columns[besty_rfe.get_support(indices=True)].tolist()\n",
    "\n",
    "    print(f\"The best {k} features are: {selected_feature_names}\")\n",
    "\n",
    "    ranking = pd.DataFrame(\n",
    "        {\n",
    "            'feature': X.columns.to_list(),\n",
    "            'rfe_ranking': besty_rfe.ranking_\n",
    "        })\n",
    "\n",
    "    return ranking\n"
   ]
  },
  {
   "cell_type": "code",
   "execution_count": null,
   "id": "230ad30e",
   "metadata": {},
   "outputs": [],
   "source": [
    "besty_rfe(X_train,y_train,2)"
   ]
  },
  {
   "cell_type": "code",
   "execution_count": null,
   "id": "e1a987b7",
   "metadata": {},
   "outputs": [],
   "source": [
    "swiss = data(\"swiss\")"
   ]
  },
  {
   "cell_type": "code",
   "execution_count": null,
   "id": "fafb64fe",
   "metadata": {},
   "outputs": [],
   "source": [
    "swiss.head()"
   ]
  },
  {
   "cell_type": "code",
   "execution_count": null,
   "id": "735fbc77",
   "metadata": {},
   "outputs": [],
   "source": [
    "train2,test2,split2 = split_data(swiss)"
   ]
  },
  {
   "cell_type": "code",
   "execution_count": null,
   "id": "dd29457c",
   "metadata": {},
   "outputs": [],
   "source": [
    "train2.head()"
   ]
  },
  {
   "cell_type": "code",
   "execution_count": null,
   "id": "45110e57",
   "metadata": {},
   "outputs": [],
   "source": [
    "X_train2 =train2.drop(columns=\"Fertility\")"
   ]
  },
  {
   "cell_type": "code",
   "execution_count": null,
   "id": "ed61c38e",
   "metadata": {},
   "outputs": [],
   "source": [
    "y_train2 = train2.Fertility"
   ]
  },
  {
   "cell_type": "code",
   "execution_count": null,
   "id": "f61c9446",
   "metadata": {},
   "outputs": [],
   "source": [
    "select_kbest(X_train2,y_train2,3)"
   ]
  },
  {
   "cell_type": "code",
   "execution_count": null,
   "id": "580b9103",
   "metadata": {},
   "outputs": [],
   "source": [
    "besty_rfe(X_train2,y_train2,3)"
   ]
  },
  {
   "cell_type": "code",
   "execution_count": null,
   "id": "c456e2ba",
   "metadata": {},
   "outputs": [],
   "source": []
  }
 ],
 "metadata": {
  "kernelspec": {
   "display_name": "Python 3 (ipykernel)",
   "language": "python",
   "name": "python3"
  },
  "language_info": {
   "codemirror_mode": {
    "name": "ipython",
    "version": 3
   },
   "file_extension": ".py",
   "mimetype": "text/x-python",
   "name": "python",
   "nbconvert_exporter": "python",
   "pygments_lexer": "ipython3",
   "version": "3.11.5"
  }
 },
 "nbformat": 4,
 "nbformat_minor": 5
}
